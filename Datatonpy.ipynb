{
 "cells": [
  {
   "cell_type": "code",
   "execution_count": 1,
   "id": "f17bd1ec",
   "metadata": {},
   "outputs": [],
   "source": [
    "import numpy as np\n",
    "import pandas as pd\n",
    "\n",
    "from sklearn.utils import shuffle\n",
    "import matplotlib.pyplot as plt"
   ]
  },
  {
   "cell_type": "code",
   "execution_count": null,
   "id": "15663f50",
   "metadata": {},
   "outputs": [],
   "source": [
    "col_names = ['Center','Left','Right', 'Steering','Throttle', 'Break','Speed']\n",
    "df = pd.read_csv('driving_log.csv', names = col_names)\n",
    "\n",
    "df.head(10)"
   ]
  },
  {
   "cell_type": "code",
   "execution_count": null,
   "id": "4fc982d3",
   "metadata": {},
   "outputs": [],
   "source": [
    "steering  = df['Steering'].values\n",
    "imgs      = df['Center'].values"
   ]
  },
  {
   "cell_type": "code",
   "execution_count": null,
   "id": "bf5ababe",
   "metadata": {},
   "outputs": [],
   "source": [
    "pos = 0\n",
    "neg = 0\n",
    "zero = 0\n",
    "\n",
    "for i in steering:\n",
    "\n",
    "    if (i > 0):\n",
    "        pos += 1\n",
    "\n",
    "    elif (i < 0):\n",
    "        neg += 1\n",
    "\n",
    "    elif (i == 0):\n",
    "        zero += 1\n",
    "        \n",
    "print('Positive Numbers: ',pos)\n",
    "print('Negative Numbers: ',neg)\n",
    "print('Zeros Numbers: ',zero)"
   ]
  },
  {
   "cell_type": "code",
   "execution_count": null,
   "id": "d520f090",
   "metadata": {},
   "outputs": [],
   "source": [
    "\n",
    "num_bins = 25\n",
    "\n",
    "hist , bins = np.histogram(steering, num_bins)"
   ]
  },
  {
   "cell_type": "code",
   "execution_count": null,
   "id": "eb816088",
   "metadata": {},
   "outputs": [],
   "source": [
    "center = (bins[1:] + bins[:-1])/2."
   ]
  },
  {
   "cell_type": "code",
   "execution_count": null,
   "id": "ce5bf9ab",
   "metadata": {},
   "outputs": [],
   "source": [
    "plt.bar(center, hist, width = 0.05)\n",
    "plt.plot((-1,1), (600,600))"
   ]
  },
  {
   "cell_type": "code",
   "execution_count": null,
   "id": "4b2cded1",
   "metadata": {},
   "outputs": [],
   "source": [
    "data = df.values\n",
    "data = shuffle(data)"
   ]
  },
  {
   "cell_type": "code",
   "execution_count": null,
   "id": "6041f9f7",
   "metadata": {},
   "outputs": [],
   "source": [
    "counter = 0\n",
    "new_data = []\n",
    "\n",
    "for i in range(len(data)):\n",
    "\n",
    "    if (data[i][3] == 0):\n",
    "        if (counter != 600):\n",
    "            counter += 1\n",
    "            new_data.append(data[i])\n",
    "        else:\n",
    "            break"
   ]
  },
  {
   "cell_type": "code",
   "execution_count": null,
   "id": "75838ff2",
   "metadata": {},
   "outputs": [],
   "source": [
    "for i in range(len(data)):\n",
    "    \n",
    "    if (data[i][3] != 0):\n",
    "        new_data.append(data[i])"
   ]
  },
  {
   "cell_type": "code",
   "execution_count": null,
   "id": "75872510",
   "metadata": {},
   "outputs": [],
   "source": [
    "plt.bar(center, hist, width = 0.05)\n",
    "plt.plot((-1,1), (600,600))"
   ]
  },
  {
   "cell_type": "code",
   "execution_count": null,
   "id": "0b9af68c",
   "metadata": {},
   "outputs": [],
   "source": [
    "new_data = shuffle(new_data)\n",
    "\n",
    "steering = []\n",
    "\n",
    "for i in new_data:\n",
    "    steering.append(i[3])"
   ]
  },
  {
   "cell_type": "code",
   "execution_count": null,
   "id": "ac8fc447",
   "metadata": {},
   "outputs": [],
   "source": [
    "num_bins = 25\n",
    "\n",
    "hist , bins = np.histogram(steering, num_bins)"
   ]
  },
  {
   "cell_type": "code",
   "execution_count": null,
   "id": "63551617",
   "metadata": {},
   "outputs": [],
   "source": [
    "center = (bins[:-1] + bins[1:])/2"
   ]
  },
  {
   "cell_type": "code",
   "execution_count": null,
   "id": "a6687133",
   "metadata": {},
   "outputs": [],
   "source": [
    "plt.bar(center, hist, width = 0.05)\n",
    "# plt.plot((-1,1), (500,500))"
   ]
  },
  {
   "cell_type": "code",
   "execution_count": null,
   "id": "da4b5339",
   "metadata": {},
   "outputs": [],
   "source": []
  },
  {
   "cell_type": "code",
   "execution_count": null,
   "id": "cc9173d4",
   "metadata": {},
   "outputs": [],
   "source": [
    "new_data = np.array(new_data)"
   ]
  },
  {
   "cell_type": "code",
   "execution_count": null,
   "id": "c2075f5e",
   "metadata": {},
   "outputs": [],
   "source": [
    "np.save(\"precessed_data_logs.npy\",new_data)"
   ]
  }
 ],
 "metadata": {
  "kernelspec": {
   "display_name": "Python 3 (ipykernel)",
   "language": "python",
   "name": "python3"
  },
  "language_info": {
   "codemirror_mode": {
    "name": "ipython",
    "version": 3
   },
   "file_extension": ".py",
   "mimetype": "text/x-python",
   "name": "python",
   "nbconvert_exporter": "python",
   "pygments_lexer": "ipython3",
   "version": "3.9.12"
  }
 },
 "nbformat": 4,
 "nbformat_minor": 5
}
