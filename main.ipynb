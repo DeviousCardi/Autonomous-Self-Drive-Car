{
 "cells": [
  {
   "cell_type": "code",
   "execution_count": 22,
   "id": "744c73e2",
   "metadata": {},
   "outputs": [
    {
     "name": "stderr",
     "output_type": "stream",
     "text": [
      "2022-10-09 00:07:40.319206: I tensorflow/core/platform/cpu_feature_guard.cc:193] This TensorFlow binary is optimized with oneAPI Deep Neural Network Library (oneDNN) to use the following CPU instructions in performance-critical operations:  AVX2 FMA\n",
      "To enable them in other operations, rebuild TensorFlow with the appropriate compiler flags.\n",
      "2022-10-09 00:07:41.165647: W tensorflow/stream_executor/platform/default/dso_loader.cc:64] Could not load dynamic library 'libcudart.so.11.0'; dlerror: libcudart.so.11.0: cannot open shared object file: No such file or directory; LD_LIBRARY_PATH: /home/aarav/Downloads/college/lib/python3.9/site-packages/cv2/../../lib64:\n",
      "2022-10-09 00:07:41.165704: I tensorflow/stream_executor/cuda/cudart_stub.cc:29] Ignore above cudart dlerror if you do not have a GPU set up on your machine.\n",
      "2022-10-09 00:07:41.304534: E tensorflow/stream_executor/cuda/cuda_blas.cc:2981] Unable to register cuBLAS factory: Attempting to register factory for plugin cuBLAS when one has already been registered\n",
      "2022-10-09 00:07:44.080351: W tensorflow/stream_executor/platform/default/dso_loader.cc:64] Could not load dynamic library 'libnvinfer.so.7'; dlerror: libnvinfer.so.7: cannot open shared object file: No such file or directory; LD_LIBRARY_PATH: /home/aarav/Downloads/college/lib/python3.9/site-packages/cv2/../../lib64:\n",
      "2022-10-09 00:07:44.080508: W tensorflow/stream_executor/platform/default/dso_loader.cc:64] Could not load dynamic library 'libnvinfer_plugin.so.7'; dlerror: libnvinfer_plugin.so.7: cannot open shared object file: No such file or directory; LD_LIBRARY_PATH: /home/aarav/Downloads/college/lib/python3.9/site-packages/cv2/../../lib64:\n",
      "2022-10-09 00:07:44.080525: W tensorflow/compiler/tf2tensorrt/utils/py_utils.cc:38] TF-TRT Warning: Cannot dlopen some TensorRT libraries. If you would like to use Nvidia GPU with TensorRT, please make sure the missing libraries mentioned above are installed properly.\n"
     ]
    }
   ],
   "source": [
    "import cv2 as cv\n",
    "import numpy as np\n",
    "\n",
    "import matplotlib.pyplot as plt\n",
    "\n",
    "from sklearn.model_selection import train_test_split\n",
    "\n",
    "from tensorflow.keras.models import Sequential, load_model\n",
    "from tensorflow.keras.layers import Convolution2D, Flatten, Dense"
   ]
  },
  {
   "cell_type": "code",
   "execution_count": 23,
   "id": "2d9c7d10",
   "metadata": {},
   "outputs": [],
   "source": [
    "data = np.load('final_data.npy')\n",
    "\n",
    "imgs = data[0]\n",
    "steering = data[1]\n",
    "\n",
    "X_train, X_test, y_train, y_test = train_test_split(imgs, steering, test_size = 0.2)"
   ]
  },
  {
   "cell_type": "code",
   "execution_count": null,
   "id": "dbfbc28d",
   "metadata": {},
   "outputs": [],
   "source": []
  },
  {
   "cell_type": "code",
   "execution_count": null,
   "id": "458ee67c",
   "metadata": {},
   "outputs": [],
   "source": []
  },
  {
   "cell_type": "code",
   "execution_count": 24,
   "id": "0bc94b77",
   "metadata": {},
   "outputs": [],
   "source": [
    "def batch_generator(imgs, steering, batch_size):   \n",
    "   \n",
    "    while True:\n",
    "        \n",
    "        X = []\n",
    "        y = []\n",
    "    \n",
    "        for i in range(batch_size):\n",
    "        \n",
    "            index = np.random.randint(0,len(imgs)-1)\n",
    "            img = cv.imread(imgs[index])\n",
    "            \n",
    "                \n",
    "            img = cv.cvtColor(img, cv.COLOR_BGR2YUV)\n",
    "            img = img[60:135,:,:]\n",
    "            \n",
    "            img = cv.resize(img , (200,66))\n",
    "            \n",
    "            \n",
    "\n",
    "            if (np.random.rand() > 0.5):\n",
    "\n",
    "                brighness_cont = np.random.randint(1,4)\n",
    "                img = img / brighness_cont\n",
    "\n",
    "            if (np.random.rand() > 0.5):\n",
    "\n",
    "                img = cv.flip(img, 1)\n",
    "                steering_angle = -float(steering[index])\n",
    "\n",
    "            else:\n",
    "                steering_angle = float(steering[index])\n",
    "            \n",
    "            \n",
    "            X.append(img)\n",
    "            y.append(steering_angle)\n",
    "            \n",
    "        X = np.array(X)\n",
    "        y = np.array(y)\n",
    "\n",
    "        yield X,y\n"
   ]
  },
  {
   "cell_type": "code",
   "execution_count": 25,
   "id": "863b174f",
   "metadata": {},
   "outputs": [
    {
     "name": "stderr",
     "output_type": "stream",
     "text": [
      "2022-10-09 00:08:07.017708: W tensorflow/stream_executor/platform/default/dso_loader.cc:64] Could not load dynamic library 'libcuda.so.1'; dlerror: libcuda.so.1: cannot open shared object file: No such file or directory; LD_LIBRARY_PATH: /home/aarav/Downloads/college/lib/python3.9/site-packages/cv2/../../lib64:\n",
      "2022-10-09 00:08:07.018218: W tensorflow/stream_executor/cuda/cuda_driver.cc:263] failed call to cuInit: UNKNOWN ERROR (303)\n",
      "2022-10-09 00:08:07.018327: I tensorflow/stream_executor/cuda/cuda_diagnostics.cc:156] kernel driver does not appear to be running on this host (aarav-GF63-Thin-9SCXR): /proc/driver/nvidia/version does not exist\n",
      "2022-10-09 00:08:07.019620: I tensorflow/core/platform/cpu_feature_guard.cc:193] This TensorFlow binary is optimized with oneAPI Deep Neural Network Library (oneDNN) to use the following CPU instructions in performance-critical operations:  AVX2 FMA\n",
      "To enable them in other operations, rebuild TensorFlow with the appropriate compiler flags.\n"
     ]
    }
   ],
   "source": [
    "model = Sequential()\n",
    "\n",
    "model.add(Convolution2D(24, (5,5), strides = (2,2), input_shape = (66,200,3), activation = 'elu'))\n",
    "model.add(Convolution2D(36, (5,5), strides = (2,2), activation = 'elu'))\n",
    "model.add(Convolution2D(48, (5,5), strides = (2,2), activation = 'elu'))\n",
    "\n",
    "model.add(Convolution2D(64, (3,3), activation = 'elu'))\n",
    "model.add(Convolution2D(64, (3,3), activation = 'elu'))\n",
    "\n",
    "model.add(Flatten())\n",
    "\n",
    "model.add(Dense(100, activation = 'elu'))\n",
    "model.add(Dense(50, activation = 'elu'))\n",
    "model.add(Dense(10, activation = 'elu'))\n",
    "model.add(Dense(1))\n",
    "\n",
    "model.compile(optimizer = 'adam', loss = 'mse', metrics = ['accuracy'])"
   ]
  },
  {
   "cell_type": "raw",
   "id": "e8c0945f",
   "metadata": {},
   "source": []
  },
  {
   "cell_type": "code",
   "execution_count": 26,
   "id": "6a5068e7",
   "metadata": {},
   "outputs": [
    {
     "name": "stdout",
     "output_type": "stream",
     "text": [
      "Model: \"sequential\"\n",
      "_________________________________________________________________\n",
      " Layer (type)                Output Shape              Param #   \n",
      "=================================================================\n",
      " conv2d (Conv2D)             (None, 31, 98, 24)        1824      \n",
      "                                                                 \n",
      " conv2d_1 (Conv2D)           (None, 14, 47, 36)        21636     \n",
      "                                                                 \n",
      " conv2d_2 (Conv2D)           (None, 5, 22, 48)         43248     \n",
      "                                                                 \n",
      " conv2d_3 (Conv2D)           (None, 3, 20, 64)         27712     \n",
      "                                                                 \n",
      " conv2d_4 (Conv2D)           (None, 1, 18, 64)         36928     \n",
      "                                                                 \n",
      " flatten (Flatten)           (None, 1152)              0         \n",
      "                                                                 \n",
      " dense (Dense)               (None, 100)               115300    \n",
      "                                                                 \n",
      " dense_1 (Dense)             (None, 50)                5050      \n",
      "                                                                 \n",
      " dense_2 (Dense)             (None, 10)                510       \n",
      "                                                                 \n",
      " dense_3 (Dense)             (None, 1)                 11        \n",
      "                                                                 \n",
      "=================================================================\n",
      "Total params: 252,219\n",
      "Trainable params: 252,219\n",
      "Non-trainable params: 0\n",
      "_________________________________________________________________\n"
     ]
    }
   ],
   "source": [
    "model.summary()"
   ]
  },
  {
   "cell_type": "code",
   "execution_count": null,
   "id": "12c4e786",
   "metadata": {},
   "outputs": [],
   "source": []
  },
  {
   "cell_type": "code",
   "execution_count": null,
   "id": "5070c34d",
   "metadata": {},
   "outputs": [],
   "source": [
    "history = model.fit(batch_generator(X_train, y_train, 64), steps_per_epoch = 300, epochs = 8,\n",
    "         validation_data = batch_generator(X_test,y_test, 64), validation_steps = 200)"
   ]
  },
  {
   "cell_type": "code",
   "execution_count": 31,
   "id": "d2ae9a54",
   "metadata": {},
   "outputs": [],
   "source": [
    "model.save('Model.h5')"
   ]
  },
  {
   "cell_type": "code",
   "execution_count": null,
   "id": "836a0031",
   "metadata": {},
   "outputs": [],
   "source": []
  },
  {
   "cell_type": "code",
   "execution_count": null,
   "id": "ec30a97a",
   "metadata": {},
   "outputs": [],
   "source": []
  }
 ],
 "metadata": {
  "kernelspec": {
   "display_name": "Python 3 (ipykernel)",
   "language": "python",
   "name": "python3"
  },
  "language_info": {
   "codemirror_mode": {
    "name": "ipython",
    "version": 3
   },
   "file_extension": ".py",
   "mimetype": "text/x-python",
   "name": "python",
   "nbconvert_exporter": "python",
   "pygments_lexer": "ipython3",
   "version": "3.9.12"
  }
 },
 "nbformat": 4,
 "nbformat_minor": 5
}
